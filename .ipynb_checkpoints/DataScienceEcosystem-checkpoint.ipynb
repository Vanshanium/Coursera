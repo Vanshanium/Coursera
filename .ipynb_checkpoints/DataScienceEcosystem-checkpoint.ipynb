{
 "cells": [
  {
   "cell_type": "markdown",
   "id": "3cb11fff",
   "metadata": {},
   "source": [
    "# Data Science Tools and Ecosystem"
   ]
  },
  {
   "cell_type": "markdown",
   "id": "d412b153",
   "metadata": {},
   "source": [
    "In this notebook, Data Science Tools and Ecosystem are summarized. And this is being created by an Alien, to study human Civilization."
   ]
  },
  {
   "cell_type": "markdown",
   "id": "00fea0a3",
   "metadata": {},
   "source": [
    "Some of the popular languages that Data Scientists use are (According to Humans):\n",
    "1. Python\n",
    "2. R\n",
    "3. SQL\n",
    "4. Julia\n",
    "5. Java\n",
    "6. Scala\n",
    "7. PHP ?\n"
   ]
  },
  {
   "cell_type": "markdown",
   "id": "0f2ccfe6",
   "metadata": {
    "vscode": {
     "languageId": "plaintext"
    }
   },
   "source": [
    "Some of the commonly used libraries used by Data Scientists include (According to this course):\n",
    "1. TensorFlow \n",
    "2. Scikit Learn \n",
    "3. Pytorch \n",
    "4. GGPlot2 \n",
    "5. Plotly \n",
    "6. Leaflet "
   ]
  },
  {
   "cell_type": "markdown",
   "id": "845927d6",
   "metadata": {},
   "source": [
    "| Data Science Tools |\n",
    "| --- |\n",
    "| Jupyter Notebook |\n",
    "| RStudio |\n",
    "| Visual Studio Code |"
   ]
  },
  {
   "cell_type": "markdown",
   "id": "aa90ad7b",
   "metadata": {
    "vscode": {
     "languageId": "plaintext"
    }
   },
   "source": [
    "### Below are a few examples of evaluating arithmetic expressions in Python"
   ]
  },
  {
   "cell_type": "code",
   "execution_count": 1,
   "id": "b90962c4",
   "metadata": {},
   "outputs": [
    {
     "data": {
      "text/plain": [
       "17"
      ]
     },
     "execution_count": 1,
     "metadata": {},
     "output_type": "execute_result"
    }
   ],
   "source": [
    "# This a simple arithmetic expression to mutiply then add integers\n",
    "(3*4)+5"
   ]
  },
  {
   "cell_type": "code",
   "execution_count": 2,
   "id": "9a3ad95d",
   "metadata": {},
   "outputs": [
    {
     "name": "stdout",
     "output_type": "stream",
     "text": [
      "This is the Hour Conversion of 200mins : 3.3333333333333335\n"
     ]
    }
   ],
   "source": [
    "# This will convert 200 minutes to hours by diving by 60\n",
    "min = 200 \n",
    "hours = min/60\n",
    "\n",
    "print(f\"This is the Hour Conversion of {min}mins : {hours}\")"
   ]
  },
  {
   "cell_type": "markdown",
   "id": "5f32c5d3",
   "metadata": {},
   "source": [
    "**Objectives:**\n",
    "- List popular languages for Data Science\n",
    "- List of Popular Libraries for Data Science\n",
    "- List of Tools \n",
    "- Python Code Examples\n",
    "- Pokemons "
   ]
  },
  {
   "cell_type": "markdown",
   "id": "49a4de7d",
   "metadata": {},
   "source": [
    "## Author \n",
    "Vansh"
   ]
  }
 ],
 "metadata": {
  "kernelspec": {
   "display_name": "Jupyter",
   "language": "python",
   "name": "python3"
  },
  "language_info": {
   "codemirror_mode": {
    "name": "ipython",
    "version": 3
   },
   "file_extension": ".py",
   "mimetype": "text/x-python",
   "name": "python",
   "nbconvert_exporter": "python",
   "pygments_lexer": "ipython3",
   "version": "3.13.7"
  }
 },
 "nbformat": 4,
 "nbformat_minor": 5
}
